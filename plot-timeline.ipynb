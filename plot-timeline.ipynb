{
 "cells": [
  {
   "cell_type": "code",
   "execution_count": 11,
   "metadata": {},
   "outputs": [
    {
     "data": {
      "image/png": "[encoded data removed]",
      "text/plain": [
       "<Figure size 1200x160 with 1 Axes>"
      ]
     },
     "metadata": {
      "needs_background": "light"
     },
     "output_type": "display_data"
    }
   ],
   "source": [
    "# Quick example for plotting results from interview-meter\n",
    "\n",
    "import matplotlib.pyplot as plt\n",
    "import random\n",
    "import numpy as np\n",
    "\n",
    "# We open an example CSV generated by interview-meter and convert it back to a Numpy Array\n",
    "b = np.loadtxt('./examples/joe_rogan/Joe Rogan Experience #1436 - Adam Curry.csv', dtype=np.int32)\n",
    "\n",
    "# We set the scenes, colors and positions\n",
    "scenes = ['cover','both','Adam', 'Joe']\n",
    "colors = ['lightgray', 'dimgray', 'powderblue', 'lightcoral']\n",
    "position = [0.8,0.9,0.99, 1.01]\n",
    "position_text = [0.79, 0.89,0.975, 1.015]\n",
    "\n",
    "# We only analize certain scenes\n",
    "analyze_scenes = ['Adam','Joe']\n",
    "\n",
    "# Indicator variables\n",
    "start_longest_seq = [None] * len(scenes)\n",
    "stop_longest_seq =  [None] * len(scenes)\n",
    "length_longest_seq = [None] * len(scenes)\n",
    "\n",
    "# Calculate indicators\n",
    "for item in analyze_scenes:\n",
    "    # Get start, stop index pairs for islands/seq. of 1s\n",
    "    idx = scenes.index(item)\n",
    "    idx_pairs = np.where(np.diff(np.hstack(([False],b==idx,[False]))))[0].reshape(-1,2)\n",
    "    start_longest_seq[idx] = idx_pairs[np.diff(idx_pairs,axis=1).argmax(),0]\n",
    "    stop_longest_seq[idx] = idx_pairs[np.diff(idx_pairs,axis=1).argmax(),1]\n",
    "    length_longest_seq[idx] = stop_longest_seq[idx] - start_longest_seq[idx]\n",
    "\n",
    "# Prepare the plot\n",
    "f, ax = plt.subplots(num=None, figsize=(15, 2), dpi=80)\n",
    "ax.set_ylim(0.95,1.05)\n",
    "plt.axis('off')\n",
    "\n",
    "# Plot the horizontal timeline, in wich every second is a vertical line. This gives the look of a continuous bar\n",
    "for x in range(0, len(b)):\n",
    "    color = colors[b[x]]\n",
    "    plt.hlines(1, x, x + 1, colors=color, lw=15)\n",
    "\n",
    "# For each analized scene, print out the longest sequence-shot.\n",
    "for item in analyze_scenes:\n",
    "    idx = scenes.index(item)\n",
    "    hint_text = scenes[idx] + ' longest sequence-shot: '\n",
    "    plt.hlines(position[idx], start_longest_seq[idx], stop_longest_seq[idx], colors=colors[idx], lw=5)\n",
    "    plt.text(start_longest_seq[idx]+(stop_longest_seq[idx]-start_longest_seq[idx])/2, position_text[idx], hint_text + str(length_longest_seq[idx]) + ' seconds', ha='center')\n",
    "\n",
    "plt.show()\n",
    "\n"
   ]
  }
 ],
 "metadata": {
  "kernelspec": {
   "display_name": "Python 3",
   "language": "python",
   "name": "python3"
  },
  "language_info": {
   "codemirror_mode": {
    "name": "ipython",
    "version": 3
   },
   "file_extension": ".py",
   "mimetype": "text/x-python",
   "name": "python",
   "nbconvert_exporter": "python",
   "pygments_lexer": "ipython3",
   "version": "3.7.6"
  }
 },
 "nbformat": 4,
 "nbformat_minor": 4
}
